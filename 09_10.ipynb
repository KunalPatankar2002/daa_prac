{
 "cells": [
  {
   "cell_type": "markdown",
   "metadata": {},
   "source": [
    "9. Write a program to do the following: You have given a collection of 8\n",
    "points. P1=[0.1,0.6] P2=[0.15,0.71] P3=[0.08,0.9] P4=[0.16, 0.85]\n",
    "P5=[0.2,0.3] P6=[0.25,0.5] P7=[0.24,0.1] P8=[0.3,0.2]. Perform the k-mean\n",
    "clustering with initial centroids as m1=P1 =Cluster#1=C1 and\n",
    "m2=P8=cluster#2=C2. Answer the following 1] Which cluster does P6\n",
    "belong to? 2] What is the population of a cluster around m2? 3] What is\n",
    "the updated value of m1 and m2?\n",
    "\n",
    "10. Write a program to do the following: You have given a collection of 8\n",
    "points. P1=[2, 10] P2=[2, 5] P3=[8, 4] P4=[5, 8] P5=[7,5] P6=[6, 4] P7=[1, 2]\n",
    "P8=[4, 9]. Perform the k-mean clustering with initial centroids as m1=P1\n",
    "=Cluster#1=C1 and m2=P4=cluster#2=C2, m3=P7 =Cluster#3=C3. Answer\n",
    "the following 1] Which cluster does P6 belong to? 2] What is the\n",
    "population of a cluster around m3? 3] What is the updated value of m1,\n",
    "m2, m3?"
   ]
  },
  {
   "cell_type": "code",
   "execution_count": 88,
   "metadata": {},
   "outputs": [],
   "source": [
    "import numpy as np\n",
    "import pandas as pd\n",
    "import random as rand\n",
    "from sklearn import datasets\n",
    "from sklearn.cluster import KMeans\n",
    "import math"
   ]
  },
  {
   "cell_type": "markdown",
   "metadata": {},
   "source": [
    "# df = pd.read_csv('Datasets/Iris.csv')\n",
    "data = datasets.load_iris()\n",
    "df = df.data\n",
    "k=3\n",
    "initial_centroids_indices = np.random.choice(df.shape[0], k, replace=False)\n",
    "initial_centroids = df[initial_centroids_indices]\n",
    "kmeans = KMeans(n_clusters=k, init='random', n_init=10)\n",
    "kmeans.fit(df)\n",
    "cluster_labels = kmeans.predict(df)\n",
    "print(cluster_labels)\n",
    "final_cluster_centers = kmeans.cluster_centers_\n",
    "for i, center in enumerate(final_cluster_centers):\n",
    "    print(f\"Cluster {i + 1} Mean: {center}\")"
   ]
  },
  {
   "cell_type": "code",
   "execution_count": 89,
   "metadata": {},
   "outputs": [],
   "source": [
    "data = [[0.1,0.6] ,[0.15,0.71] ,[0.08,0.9] ,[0.16, 0.85],[0.2,0.3] ,[0.25,0.5] ,[0.24,0.1] ,[0.3,0.2]]\n",
    "df = pd.DataFrame(data)\n",
    "k=3"
   ]
  },
  {
   "cell_type": "code",
   "execution_count": 94,
   "metadata": {},
   "outputs": [
    {
     "name": "stdout",
     "output_type": "stream",
     "text": [
      "[0, 3, 7]\n"
     ]
    }
   ],
   "source": [
    "# for rn=andom initial clusters \n",
    "# initial_clusters = rand.sample(range(data.__len__()),k)\n",
    "initial_clusters = [0,3,7]\n",
    "print(initial_clusters)"
   ]
  },
  {
   "cell_type": "code",
   "execution_count": 95,
   "metadata": {},
   "outputs": [
    {
     "name": "stdout",
     "output_type": "stream",
     "text": [
      "[[0.1, 0.6], [0.16, 0.85], [0.3, 0.2]]\n"
     ]
    }
   ],
   "source": [
    "clusters = []\n",
    "for i in initial_clusters:\n",
    "    clusters.append(data[i])\n",
    "print(clusters)"
   ]
  },
  {
   "cell_type": "code",
   "execution_count": 96,
   "metadata": {},
   "outputs": [],
   "source": [
    "def get_cluster(data):\n",
    "    weights = []\n",
    "    for i in clusters:\n",
    "        sum=0\n",
    "        for j, k in zip(i, data):\n",
    "            sum += math.pow((j-k),2)  \n",
    "        weights.append(math.sqrt(sum))\n",
    "    return weights.index(min(weights))"
   ]
  },
  {
   "cell_type": "code",
   "execution_count": 97,
   "metadata": {},
   "outputs": [
    {
     "name": "stdout",
     "output_type": "stream",
     "text": [
      "[[0.1, 0.6], [0.16, 0.85], [0.3, 0.2]]\n",
      "[array([0.16666667, 0.60333333]), array([0.12 , 0.875]), array([0.24666667, 0.2       ])]\n",
      "[array([0.16666667, 0.60333333]), array([0.12 , 0.875]), array([0.24666667, 0.2       ])]\n",
      "[array([0.16666667, 0.60333333]), array([0.12 , 0.875]), array([0.24666667, 0.2       ])]\n",
      "[array([0.16666667, 0.60333333]), array([0.12 , 0.875]), array([0.24666667, 0.2       ])]\n",
      "[array([0.16666667, 0.60333333]), array([0.12 , 0.875]), array([0.24666667, 0.2       ])]\n",
      "[array([0.16666667, 0.60333333]), array([0.12 , 0.875]), array([0.24666667, 0.2       ])]\n",
      "[array([0.16666667, 0.60333333]), array([0.12 , 0.875]), array([0.24666667, 0.2       ])]\n",
      "[array([0.16666667, 0.60333333]), array([0.12 , 0.875]), array([0.24666667, 0.2       ])]\n",
      "[array([0.16666667, 0.60333333]), array([0.12 , 0.875]), array([0.24666667, 0.2       ])]\n",
      "[array([0.16666667, 0.60333333]), array([0.12 , 0.875]), array([0.24666667, 0.2       ])] \n",
      "\n",
      "         0  1\n",
      "cluster      \n",
      "0        3  3\n",
      "1        2  2\n",
      "2        3  3\n"
     ]
    },
    {
     "data": {
      "text/html": [
       "<div>\n",
       "<style scoped>\n",
       "    .dataframe tbody tr th:only-of-type {\n",
       "        vertical-align: middle;\n",
       "    }\n",
       "\n",
       "    .dataframe tbody tr th {\n",
       "        vertical-align: top;\n",
       "    }\n",
       "\n",
       "    .dataframe thead th {\n",
       "        text-align: right;\n",
       "    }\n",
       "</style>\n",
       "<table border=\"1\" class=\"dataframe\">\n",
       "  <thead>\n",
       "    <tr style=\"text-align: right;\">\n",
       "      <th></th>\n",
       "      <th>0</th>\n",
       "      <th>1</th>\n",
       "      <th>cluster</th>\n",
       "    </tr>\n",
       "  </thead>\n",
       "  <tbody>\n",
       "    <tr>\n",
       "      <th>0</th>\n",
       "      <td>0.10</td>\n",
       "      <td>0.60</td>\n",
       "      <td>0</td>\n",
       "    </tr>\n",
       "    <tr>\n",
       "      <th>1</th>\n",
       "      <td>0.15</td>\n",
       "      <td>0.71</td>\n",
       "      <td>0</td>\n",
       "    </tr>\n",
       "    <tr>\n",
       "      <th>2</th>\n",
       "      <td>0.08</td>\n",
       "      <td>0.90</td>\n",
       "      <td>1</td>\n",
       "    </tr>\n",
       "    <tr>\n",
       "      <th>3</th>\n",
       "      <td>0.16</td>\n",
       "      <td>0.85</td>\n",
       "      <td>1</td>\n",
       "    </tr>\n",
       "    <tr>\n",
       "      <th>4</th>\n",
       "      <td>0.20</td>\n",
       "      <td>0.30</td>\n",
       "      <td>2</td>\n",
       "    </tr>\n",
       "    <tr>\n",
       "      <th>5</th>\n",
       "      <td>0.25</td>\n",
       "      <td>0.50</td>\n",
       "      <td>0</td>\n",
       "    </tr>\n",
       "    <tr>\n",
       "      <th>6</th>\n",
       "      <td>0.24</td>\n",
       "      <td>0.10</td>\n",
       "      <td>2</td>\n",
       "    </tr>\n",
       "    <tr>\n",
       "      <th>7</th>\n",
       "      <td>0.30</td>\n",
       "      <td>0.20</td>\n",
       "      <td>2</td>\n",
       "    </tr>\n",
       "  </tbody>\n",
       "</table>\n",
       "</div>"
      ],
      "text/plain": [
       "      0     1  cluster\n",
       "0  0.10  0.60        0\n",
       "1  0.15  0.71        0\n",
       "2  0.08  0.90        1\n",
       "3  0.16  0.85        1\n",
       "4  0.20  0.30        2\n",
       "5  0.25  0.50        0\n",
       "6  0.24  0.10        2\n",
       "7  0.30  0.20        2"
      ]
     },
     "execution_count": 97,
     "metadata": {},
     "output_type": "execute_result"
    }
   ],
   "source": [
    "assigned_clusters=[]\n",
    "for i in range(10):\n",
    "    print(clusters)\n",
    "    for i in data:\n",
    "        assigned_clusters.append(get_cluster(i))\n",
    "    df['cluster'] = assigned_clusters\n",
    "    # print(df)\n",
    "    means_by_cluster = df.groupby('cluster').mean(numeric_only=True).to_numpy()\n",
    "    clusters = [cluster_values for cluster_values in means_by_cluster]\n",
    "    assigned_clusters.clear()\n",
    "    \n",
    "print(clusters,\"\\n\")\n",
    "print(df.groupby('cluster').count())\n",
    "df"
   ]
  }
 ],
 "metadata": {
  "kernelspec": {
   "display_name": "Python 3",
   "language": "python",
   "name": "python3"
  },
  "language_info": {
   "codemirror_mode": {
    "name": "ipython",
    "version": 3
   },
   "file_extension": ".py",
   "mimetype": "text/x-python",
   "name": "python",
   "nbconvert_exporter": "python",
   "pygments_lexer": "ipython3",
   "version": "3.11.0"
  }
 },
 "nbformat": 4,
 "nbformat_minor": 2
}
