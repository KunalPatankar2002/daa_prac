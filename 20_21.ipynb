{
 "cells": [
  {
   "cell_type": "markdown",
   "metadata": {},
   "source": [
    "20. Write a program to cluster a set of points using K-means for IRIS\n",
    "dataset. Consider, K=3, clusters. Consider Euclidean distance as the\n",
    "distance measure. Randomly initialize a cluster mean as one of the data\n",
    "points. Iterate at least for 10 iterations. After iterations are over, print the\n",
    "final cluster means for each of the clusters.\n",
    "\n",
    "21. Write a program to cluster a set of points using K-means for IRIS\n",
    "dataset. Consider, K=4, clusters. Consider Euclidean distance as the\n",
    "distance measure. Randomly initialize a cluster mean as one of the data\n",
    "points. Iterate at least for 10 iterations. After iterations are over, print the\n",
    "final cluster means for each of the clusters.\n"
   ]
  },
  {
   "cell_type": "code",
   "execution_count": 2,
   "metadata": {},
   "outputs": [],
   "source": [
    "import numpy as np\n",
    "import pandas as pd\n",
    "import random as rand\n",
    "from sklearn import datasets\n",
    "from sklearn.cluster import KMeans\n",
    "import math"
   ]
  },
  {
   "cell_type": "markdown",
   "metadata": {},
   "source": [
    "# df = pd.read_csv('Datasets/Iris.csv')\n",
    "data = datasets.load_iris()\n",
    "df = df.data\n",
    "k=3\n",
    "initial_centroids_indices = np.random.choice(df.shape[0], k, replace=False)\n",
    "initial_centroids = df[initial_centroids_indices]\n",
    "kmeans = KMeans(n_clusters=k, init='random', n_init=10)\n",
    "kmeans.fit(df)\n",
    "cluster_labels = kmeans.predict(df)\n",
    "print(cluster_labels)\n",
    "final_cluster_centers = kmeans.cluster_centers_\n",
    "for i, center in enumerate(final_cluster_centers):\n",
    "    print(f\"Cluster {i + 1} Mean: {center}\")"
   ]
  },
  {
   "cell_type": "code",
   "execution_count": 4,
   "metadata": {},
   "outputs": [
    {
     "data": {
      "text/html": [
       "<div>\n",
       "<style scoped>\n",
       "    .dataframe tbody tr th:only-of-type {\n",
       "        vertical-align: middle;\n",
       "    }\n",
       "\n",
       "    .dataframe tbody tr th {\n",
       "        vertical-align: top;\n",
       "    }\n",
       "\n",
       "    .dataframe thead th {\n",
       "        text-align: right;\n",
       "    }\n",
       "</style>\n",
       "<table border=\"1\" class=\"dataframe\">\n",
       "  <thead>\n",
       "    <tr style=\"text-align: right;\">\n",
       "      <th></th>\n",
       "      <th>sepal_length</th>\n",
       "      <th>sepal_width</th>\n",
       "      <th>petal_length</th>\n",
       "      <th>petal_width</th>\n",
       "      <th>species</th>\n",
       "    </tr>\n",
       "  </thead>\n",
       "  <tbody>\n",
       "    <tr>\n",
       "      <th>0</th>\n",
       "      <td>5.1</td>\n",
       "      <td>3.5</td>\n",
       "      <td>1.4</td>\n",
       "      <td>0.2</td>\n",
       "      <td>Iris-setosa</td>\n",
       "    </tr>\n",
       "    <tr>\n",
       "      <th>1</th>\n",
       "      <td>4.9</td>\n",
       "      <td>3.0</td>\n",
       "      <td>1.4</td>\n",
       "      <td>0.2</td>\n",
       "      <td>Iris-setosa</td>\n",
       "    </tr>\n",
       "    <tr>\n",
       "      <th>2</th>\n",
       "      <td>4.7</td>\n",
       "      <td>3.2</td>\n",
       "      <td>1.3</td>\n",
       "      <td>0.2</td>\n",
       "      <td>Iris-setosa</td>\n",
       "    </tr>\n",
       "    <tr>\n",
       "      <th>3</th>\n",
       "      <td>4.6</td>\n",
       "      <td>3.1</td>\n",
       "      <td>1.5</td>\n",
       "      <td>0.2</td>\n",
       "      <td>Iris-setosa</td>\n",
       "    </tr>\n",
       "    <tr>\n",
       "      <th>4</th>\n",
       "      <td>5.0</td>\n",
       "      <td>3.6</td>\n",
       "      <td>1.4</td>\n",
       "      <td>0.2</td>\n",
       "      <td>Iris-setosa</td>\n",
       "    </tr>\n",
       "    <tr>\n",
       "      <th>...</th>\n",
       "      <td>...</td>\n",
       "      <td>...</td>\n",
       "      <td>...</td>\n",
       "      <td>...</td>\n",
       "      <td>...</td>\n",
       "    </tr>\n",
       "    <tr>\n",
       "      <th>145</th>\n",
       "      <td>6.7</td>\n",
       "      <td>3.0</td>\n",
       "      <td>5.2</td>\n",
       "      <td>2.3</td>\n",
       "      <td>Iris-virginica</td>\n",
       "    </tr>\n",
       "    <tr>\n",
       "      <th>146</th>\n",
       "      <td>6.3</td>\n",
       "      <td>2.5</td>\n",
       "      <td>5.0</td>\n",
       "      <td>1.9</td>\n",
       "      <td>Iris-virginica</td>\n",
       "    </tr>\n",
       "    <tr>\n",
       "      <th>147</th>\n",
       "      <td>6.5</td>\n",
       "      <td>3.0</td>\n",
       "      <td>5.2</td>\n",
       "      <td>2.0</td>\n",
       "      <td>Iris-virginica</td>\n",
       "    </tr>\n",
       "    <tr>\n",
       "      <th>148</th>\n",
       "      <td>6.2</td>\n",
       "      <td>3.4</td>\n",
       "      <td>5.4</td>\n",
       "      <td>2.3</td>\n",
       "      <td>Iris-virginica</td>\n",
       "    </tr>\n",
       "    <tr>\n",
       "      <th>149</th>\n",
       "      <td>5.9</td>\n",
       "      <td>3.0</td>\n",
       "      <td>5.1</td>\n",
       "      <td>1.8</td>\n",
       "      <td>Iris-virginica</td>\n",
       "    </tr>\n",
       "  </tbody>\n",
       "</table>\n",
       "<p>150 rows × 5 columns</p>\n",
       "</div>"
      ],
      "text/plain": [
       "     sepal_length  sepal_width  petal_length  petal_width         species\n",
       "0             5.1          3.5           1.4          0.2     Iris-setosa\n",
       "1             4.9          3.0           1.4          0.2     Iris-setosa\n",
       "2             4.7          3.2           1.3          0.2     Iris-setosa\n",
       "3             4.6          3.1           1.5          0.2     Iris-setosa\n",
       "4             5.0          3.6           1.4          0.2     Iris-setosa\n",
       "..            ...          ...           ...          ...             ...\n",
       "145           6.7          3.0           5.2          2.3  Iris-virginica\n",
       "146           6.3          2.5           5.0          1.9  Iris-virginica\n",
       "147           6.5          3.0           5.2          2.0  Iris-virginica\n",
       "148           6.2          3.4           5.4          2.3  Iris-virginica\n",
       "149           5.9          3.0           5.1          1.8  Iris-virginica\n",
       "\n",
       "[150 rows x 5 columns]"
      ]
     },
     "execution_count": 4,
     "metadata": {},
     "output_type": "execute_result"
    }
   ],
   "source": [
    "# data = datasets.load_iris()\n",
    "# data = data.data\n",
    "df= pd.read_csv(\"Datasets/IRIS.csv\")\n",
    "data = df.drop('species', axis=1).to_numpy()\n",
    "k=4\n",
    "# data\n",
    "df"
   ]
  },
  {
   "cell_type": "code",
   "execution_count": 8,
   "metadata": {},
   "outputs": [
    {
     "name": "stdout",
     "output_type": "stream",
     "text": [
      "[125, 51, 149, 30]\n"
     ]
    }
   ],
   "source": [
    "initial_clusters = rand.sample(range(data.__len__()),k)\n",
    "print(initial_clusters)"
   ]
  },
  {
   "cell_type": "code",
   "execution_count": 9,
   "metadata": {},
   "outputs": [
    {
     "name": "stdout",
     "output_type": "stream",
     "text": [
      "[array([7.2, 3.2, 6. , 1.8]), array([6.4, 3.2, 4.5, 1.5]), array([5.9, 3. , 5.1, 1.8]), array([4.8, 3.1, 1.6, 0.2])]\n"
     ]
    }
   ],
   "source": [
    "clusters = []\n",
    "for i in initial_clusters:\n",
    "    clusters.append(data[i])\n",
    "print(clusters)"
   ]
  },
  {
   "cell_type": "code",
   "execution_count": 10,
   "metadata": {},
   "outputs": [],
   "source": [
    "def get_cluster(data):\n",
    "    weights = []\n",
    "    for i in clusters:\n",
    "        sum=0\n",
    "        for j, k in zip(i, data):\n",
    "            sum += math.pow((j-k),2)  \n",
    "        weights.append(math.sqrt(sum))\n",
    "    return weights.index(min(weights))"
   ]
  },
  {
   "cell_type": "code",
   "execution_count": 11,
   "metadata": {},
   "outputs": [
    {
     "name": "stdout",
     "output_type": "stream",
     "text": [
      "[array([7.2, 3.2, 6. , 1.8]), array([6.4, 3.2, 4.5, 1.5]), array([5.9, 3. , 5.1, 1.8]), array([4.8, 3.1, 1.6, 0.2])]\n",
      "[array([7.11304348, 3.11304348, 5.99130435, 2.13913043]), array([6.035 , 2.7875, 4.2675, 1.32  ]), array([6.06470588, 2.85      , 5.07352941, 1.83823529]), array([5.00566038, 3.36037736, 1.56226415, 0.28867925])]\n",
      "[array([7.11304348, 3.11304348, 5.99130435, 2.13913043]), array([5.81627907, 2.72790698, 4.15348837, 1.28837209]), array([6.25      , 2.89117647, 5.12352941, 1.85294118]), array([5.006, 3.418, 1.464, 0.244])]\n",
      "[array([7.12272727, 3.11363636, 6.03181818, 2.13181818]), array([5.6972973 , 2.68108108, 4.08378378, 1.26756757]), array([6.3097561 , 2.91463415, 5.04390244, 1.8       ]), array([5.006, 3.418, 1.464, 0.244])]\n",
      "[array([7.12272727, 3.11363636, 6.03181818, 2.13181818]), array([5.63636364, 2.63636364, 4.02727273, 1.25151515]), array([6.3       , 2.92666667, 5.        , 1.76444444]), array([5.006, 3.418, 1.464, 0.244])]\n",
      "[array([7.12272727, 3.11363636, 6.03181818, 2.13181818]), array([5.6       , 2.61935484, 4.00322581, 1.24193548]), array([6.29574468, 2.92553191, 4.97446809, 1.74893617]), array([5.006, 3.418, 1.464, 0.244])]\n",
      "[array([7.08695652, 3.12608696, 6.01304348, 2.14347826]), array([5.58      , 2.63333333, 3.98666667, 1.23333333]), array([6.29361702, 2.9       , 4.95106383, 1.72978723]), array([5.006, 3.418, 1.464, 0.244])]\n",
      "[array([7.08695652, 3.12608696, 6.01304348, 2.14347826]), array([5.58      , 2.63333333, 3.98666667, 1.23333333]), array([6.29361702, 2.9       , 4.95106383, 1.72978723]), array([5.006, 3.418, 1.464, 0.244])]\n",
      "[array([7.08695652, 3.12608696, 6.01304348, 2.14347826]), array([5.58      , 2.63333333, 3.98666667, 1.23333333]), array([6.29361702, 2.9       , 4.95106383, 1.72978723]), array([5.006, 3.418, 1.464, 0.244])]\n",
      "[array([7.08695652, 3.12608696, 6.01304348, 2.14347826]), array([5.58      , 2.63333333, 3.98666667, 1.23333333]), array([6.29361702, 2.9       , 4.95106383, 1.72978723]), array([5.006, 3.418, 1.464, 0.244])]\n",
      "[array([7.08695652, 3.12608696, 6.01304348, 2.14347826]), array([5.58      , 2.63333333, 3.98666667, 1.23333333]), array([6.29361702, 2.9       , 4.95106383, 1.72978723]), array([5.006, 3.418, 1.464, 0.244])] \n",
      "\n",
      "         sepal_length  sepal_width  petal_length  petal_width  species\n",
      "cluster                                                               \n",
      "0                  23           23            23           23       23\n",
      "1                  30           30            30           30       30\n",
      "2                  47           47            47           47       47\n",
      "3                  50           50            50           50       50\n"
     ]
    }
   ],
   "source": [
    "assigned_clusters=[]\n",
    "for i in range(10):\n",
    "    print(clusters)\n",
    "    for i in data:\n",
    "        assigned_clusters.append(get_cluster(i))\n",
    "    df['cluster'] = assigned_clusters\n",
    "    # print(df)\n",
    "    means_by_cluster = df.groupby('cluster').mean(numeric_only=True).to_numpy()\n",
    "    clusters = [cluster_values for cluster_values in means_by_cluster]\n",
    "    assigned_clusters.clear()\n",
    "    \n",
    "print(clusters,\"\\n\")\n",
    "print(df.groupby('cluster').count())"
   ]
  }
 ],
 "metadata": {
  "kernelspec": {
   "display_name": "Python 3",
   "language": "python",
   "name": "python3"
  },
  "language_info": {
   "codemirror_mode": {
    "name": "ipython",
    "version": 3
   },
   "file_extension": ".py",
   "mimetype": "text/x-python",
   "name": "python",
   "nbconvert_exporter": "python",
   "pygments_lexer": "ipython3",
   "version": "3.11.0"
  }
 },
 "nbformat": 4,
 "nbformat_minor": 2
}
